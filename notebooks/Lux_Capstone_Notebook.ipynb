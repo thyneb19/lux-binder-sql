{
 "cells": [
  {
   "cell_type": "code",
   "execution_count": null,
   "id": "robust-mountain",
   "metadata": {},
   "outputs": [],
   "source": [
    "import lux\n",
    "import pandas as pd\n",
    "import psycopg2"
   ]
  },
  {
   "cell_type": "code",
   "execution_count": null,
   "id": "concrete-northern",
   "metadata": {},
   "outputs": [],
   "source": [
    "connection_string = \"host=localhost user=postgres password=lux dbname=postgres\"\n",
    "connection = psycopg2.connect(connection_string)"
   ]
  },
  {
   "cell_type": "code",
   "execution_count": null,
   "id": "thrown-tours",
   "metadata": {},
   "outputs": [],
   "source": [
    "lux.config.set_SQL_connection(connection)"
   ]
  },
  {
   "cell_type": "code",
   "execution_count": null,
   "id": "prescribed-nomination",
   "metadata": {},
   "outputs": [],
   "source": [
    "my_tbl = lux.LuxSQLTable(table_name='employee_work_details')"
   ]
  },
  {
   "cell_type": "code",
   "execution_count": null,
   "id": "forbidden-glory",
   "metadata": {},
   "outputs": [],
   "source": [
    "my_tbl.intent = ['JobLevel']\n",
    "my_tbl"
   ]
  },
  {
   "cell_type": "code",
   "execution_count": null,
   "id": "great-budapest",
   "metadata": {},
   "outputs": [],
   "source": [
    "my_vis = my_vis.recommendation['Enhance'][0]\n",
    "my_vis"
   ]
  },
  {
   "cell_type": "code",
   "execution_count": null,
   "id": "acute-guyana",
   "metadata": {},
   "outputs": [],
   "source": [
    "print(my_vis.to_code('SQL'))"
   ]
  },
  {
   "cell_type": "code",
   "execution_count": null,
   "id": "worthy-product",
   "metadata": {},
   "outputs": [],
   "source": [
    "print(my_vis.to_code('python'))"
   ]
  },
  {
   "cell_type": "code",
   "execution_count": null,
   "id": "democratic-moment",
   "metadata": {},
   "outputs": [],
   "source": [
    "from lux.utils import utils\n",
    "from lux.executor.SQLExecutor import SQLExecutor\n",
    "import pandas\n",
    "import math\n",
    "tbl = 'insert your LuxSQLTable variable here'\n",
    "view = 'insert the name of your Vis object here'\n",
    "x_attr = view.get_attr_by_channel(\"x\")[0]\n",
    "y_attr = view.get_attr_by_channel(\"y\")[0]\n",
    "has_color = False\n",
    "groupby_attr = \"\"\n",
    "measure_attr = \"\"\n",
    "groupby_attr = y_attr\n",
    "measure_attr = x_attr\n",
    "agg_func = x_attr.aggregation\n",
    "attr_unique_vals = tbl.unique_values[groupby_attr.attribute]\n",
    "color_cardinality = 1\n",
    "where_clause, filterVars = SQLExecutor.execute_filter(view)\n",
    "filters = utils.get_filter_specs(view._inferred_intent)\n",
    "length_query = pandas.read_sql(\"SELECT COUNT(*) as length FROM {} {}\".format(tbl.table_name, where_clause),lux.config.SQLconnection,)\n",
    "agg_query = 'SELECT \"{}\", AVG(\"{}\") as \"{}\" FROM {} {} GROUP BY \"{}\"'.format(groupby_attr.attribute,measure_attr.attribute,measure_attr.attribute,tbl.table_name,where_clause,groupby_attr.attribute,)\n",
    "view._vis_data = pandas.read_sql(agg_query, lux.config.SQLconnection)\n",
    "view._vis_data = utils.pandas_to_lux(view._vis_data)\n",
    "view._query = agg_query\n",
    "result_vals = list(view._vis_data[groupby_attr.attribute])\n",
    "N_unique_vals = len(attr_unique_vals)\n",
    "view._vis_data = view._vis_data.sort_values(by=groupby_attr.attribute, ascending=True)\n",
    "view._vis_data = view._vis_data.reset_index()\n",
    "view._vis_data = view._vis_data.drop(columns=\"index\")\n",
    "\n",
    "view"
   ]
  },
  {
   "cell_type": "code",
   "execution_count": null,
   "id": "central-rapid",
   "metadata": {},
   "outputs": [],
   "source": [
    "join1 = \"employee_demographics.demo_employeenumber = employee_work_details.work_employeenumber\"\n",
    "join2 = \"employee_demographics.demo_employeenumber = employee_satisfaction.satisfaction_employeenumber\"\n",
    "\n",
    "joined_tbl = lux.JoinedSQLTable(joins = [join1, join2])"
   ]
  },
  {
   "cell_type": "code",
   "execution_count": null,
   "id": "featured-amber",
   "metadata": {},
   "outputs": [],
   "source": [
    "joined_tbl.intent = ['JobSatisfaction', 'JobLevel']\n",
    "joined_tbl"
   ]
  }
 ],
 "metadata": {
  "kernelspec": {
   "display_name": "Python 3",
   "language": "python",
   "name": "python3"
  },
  "language_info": {
   "codemirror_mode": {
    "name": "ipython",
    "version": 3
   },
   "file_extension": ".py",
   "mimetype": "text/x-python",
   "name": "python",
   "nbconvert_exporter": "python",
   "pygments_lexer": "ipython3",
   "version": "3.9.1"
  }
 },
 "nbformat": 4,
 "nbformat_minor": 5
}
